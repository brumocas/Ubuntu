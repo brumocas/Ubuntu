{
 "cells": [
  {
   "cell_type": "code",
   "execution_count": 15,
   "id": "4017de5a",
   "metadata": {},
   "outputs": [],
   "source": [
    "import dateutil\n"
   ]
  },
  {
   "cell_type": "code",
   "execution_count": 16,
   "id": "89d78588",
   "metadata": {},
   "outputs": [
    {
     "data": {
      "text/plain": [
       "datetime.datetime(2022, 4, 14, 16, 47, 30, 954666)"
      ]
     },
     "execution_count": 16,
     "metadata": {},
     "output_type": "execute_result"
    }
   ],
   "source": [
    "dat1 = dt.datetime.now()\n",
    "dat1"
   ]
  },
  {
   "cell_type": "code",
   "execution_count": 20,
   "id": "47878328",
   "metadata": {},
   "outputs": [
    {
     "data": {
      "text/plain": [
       "datetime.datetime(2022, 1, 22, 1, 47, 30, 954666)"
      ]
     },
     "execution_count": 20,
     "metadata": {},
     "output_type": "execute_result"
    }
   ],
   "source": [
    "#dateutil relativedelta example \n",
    "dat1 + dateutil.relativedelta.relativedelta(month=+1,weeks=+1,hours=9)"
   ]
  },
  {
   "cell_type": "code",
   "execution_count": 18,
   "id": "0d9eba5b",
   "metadata": {},
   "outputs": [
    {
     "data": {
      "text/plain": [
       "datetime.datetime(2016, 1, 14, 16, 47, 30, 954666)"
      ]
     },
     "execution_count": 18,
     "metadata": {},
     "output_type": "execute_result"
    }
   ],
   "source": [
    "#replace values\n",
    "dat1 + dateutil.relativedelta.relativedelta(year=2016,month=1)"
   ]
  },
  {
   "cell_type": "code",
   "execution_count": 22,
   "id": "c3c42a16",
   "metadata": {},
   "outputs": [
    {
     "data": {
      "text/plain": [
       "datetime.datetime(2022, 12, 27, 10, 36, 40)"
      ]
     },
     "execution_count": 22,
     "metadata": {},
     "output_type": "execute_result"
    }
   ],
   "source": [
    "#parse example \n",
    "dateutil.parser.parse('Mon DEC 27 10:36:40')"
   ]
  },
  {
   "cell_type": "code",
   "execution_count": 23,
   "id": "fdcfb365",
   "metadata": {},
   "outputs": [
    {
     "data": {
      "text/plain": [
       "datetime.datetime(2021, 12, 27, 10, 36, 40, 500000, tzinfo=tzoffset(None, -10800))"
      ]
     },
     "execution_count": 23,
     "metadata": {},
     "output_type": "execute_result"
    }
   ],
   "source": [
    "#parse example \n",
    "dateutil.parser.parse(\"2021-12-27T10:36:40.5-03:00\")"
   ]
  },
  {
   "cell_type": "code",
   "execution_count": 25,
   "id": "8a23abdb",
   "metadata": {},
   "outputs": [
    {
     "data": {
      "text/plain": [
       "datetime.datetime(2022, 4, 14, 15, 57, 57, 290473, tzinfo=tzutc())"
      ]
     },
     "execution_count": 25,
     "metadata": {},
     "output_type": "execute_result"
    }
   ],
   "source": [
    "#dateutil tzutc example\n",
    "#This is tzinfo that represents utc time zone\n",
    "dat2 = dt.datetime.now(dateutil.tz.UTC)\n",
    "dat2"
   ]
  },
  {
   "cell_type": "code",
   "execution_count": 26,
   "id": "7ab7992d",
   "metadata": {},
   "outputs": [
    {
     "data": {
      "text/plain": [
       "'UTC'"
      ]
     },
     "execution_count": 26,
     "metadata": {},
     "output_type": "execute_result"
    }
   ],
   "source": [
    "dat2.tzname()"
   ]
  },
  {
   "cell_type": "code",
   "execution_count": 28,
   "id": "e0fd5fd4",
   "metadata": {},
   "outputs": [
    {
     "data": {
      "text/plain": [
       "datetime.datetime(2022, 4, 14, 13, 15, 56, 794883, tzinfo=tzoffset('BRST', -10800))"
      ]
     },
     "execution_count": 28,
     "metadata": {},
     "output_type": "execute_result"
    }
   ],
   "source": [
    " #dateutil tzoffset example \n",
    "#A simple class for representing a fixed offset from UTC\n",
    "dt.datetime.now(dateutil.tz.tzoffset(\"BRST\",-10800))"
   ]
  },
  {
   "cell_type": "code",
   "execution_count": 32,
   "id": "112038db",
   "metadata": {},
   "outputs": [
    {
     "data": {
      "text/plain": [
       "datetime.datetime(2022, 4, 14, 17, 18, 14, 314531, tzinfo=tzlocal())"
      ]
     },
     "execution_count": 32,
     "metadata": {},
     "output_type": "execute_result"
    }
   ],
   "source": [
    "#dateutil tzlocal example\n",
    "dat3 = dt.datetime.now(tz=dateutil.tz.tzlocal())\n",
    "dat3"
   ]
  },
  {
   "cell_type": "code",
   "execution_count": 33,
   "id": "677b31f6",
   "metadata": {},
   "outputs": [
    {
     "data": {
      "text/plain": [
       "'GMT Daylight Time'"
      ]
     },
     "execution_count": 33,
     "metadata": {},
     "output_type": "execute_result"
    }
   ],
   "source": [
    "dat3.tzname()"
   ]
  },
  {
   "cell_type": "code",
   "execution_count": 93,
   "id": "8f9a9ae7",
   "metadata": {
    "scrolled": false
   },
   "outputs": [
    {
     "data": {
      "text/plain": [
       "tzfile('Europe/Lisbon')"
      ]
     },
     "execution_count": 93,
     "metadata": {},
     "output_type": "execute_result"
    }
   ],
   "source": [
    "#dateutil gettz example \n",
    "lisbon_tz = dateutil.tz.gettz(\"Europe/Lisbon\")\n",
    "lisbon_tz"
   ]
  },
  {
   "cell_type": "code",
   "execution_count": 94,
   "id": "ede41da1",
   "metadata": {},
   "outputs": [
    {
     "data": {
      "text/plain": [
       "datetime.datetime(2022, 4, 14, 17, 32, 34, 97064, tzinfo=tzfile('Europe/Lisbon'))"
      ]
     },
     "execution_count": 94,
     "metadata": {},
     "output_type": "execute_result"
    }
   ],
   "source": [
    "dat4 = dt.datetime.now(tz=lisbon_tz)\n",
    "dat4"
   ]
  },
  {
   "cell_type": "code",
   "execution_count": 95,
   "id": "73ece2d8",
   "metadata": {},
   "outputs": [
    {
     "data": {
      "text/plain": [
       "'WEST'"
      ]
     },
     "execution_count": 95,
     "metadata": {},
     "output_type": "execute_result"
    }
   ],
   "source": [
    "dat4.tzname() #Western European Summer Time"
   ]
  },
  {
   "cell_type": "code",
   "execution_count": 119,
   "id": "66509e39",
   "metadata": {},
   "outputs": [
    {
     "data": {
      "text/plain": [
       "datetime.datetime(2021, 12, 20, 11, 0, tzinfo=tzfile('Europe/Lisbon'))"
      ]
     },
     "execution_count": 119,
     "metadata": {},
     "output_type": "execute_result"
    }
   ],
   "source": [
    "# 20/9/2021 at hour 11:00:00 in Lisbon timezone\n",
    "dat5 = dt.datetime(2021,12,20,11,0,0,tzinfo=dateutil.tz.gettz(\"Europe/Lisbon\"))\n",
    "dat5"
   ]
  },
  {
   "cell_type": "code",
   "execution_count": 120,
   "id": "045aa511",
   "metadata": {},
   "outputs": [
    {
     "data": {
      "text/plain": [
       "datetime.datetime(2021, 9, 20, 10, 0, tzinfo=tzutc())"
      ]
     },
     "execution_count": 120,
     "metadata": {},
     "output_type": "execute_result"
    }
   ],
   "source": [
    "#20/9/2021 at hour 10 in UCT\n",
    "dat6 = dt.datetime(2021,9,20,10,0,0,tzinfo=dateutil.tz.UTC)\n",
    "dat6"
   ]
  },
  {
   "cell_type": "code",
   "execution_count": 121,
   "id": "9214ff27",
   "metadata": {},
   "outputs": [
    {
     "data": {
      "text/plain": [
       "datetime.datetime(2021, 9, 20, 10, 0, tzinfo=tzlocal())"
      ]
     },
     "execution_count": 121,
     "metadata": {},
     "output_type": "execute_result"
    }
   ],
   "source": [
    "#20/9/2021 at hour 10 in local\n",
    "dat7 = dt.datetime(2021,9,20,10,0,0,tzinfo=dateutil.tz.tzlocal())\n",
    "dat7"
   ]
  },
  {
   "cell_type": "code",
   "execution_count": 122,
   "id": "dd8f5574",
   "metadata": {
    "scrolled": true
   },
   "outputs": [
    {
     "data": {
      "text/plain": [
       "datetime.datetime(2021, 9, 20, 12, 0, tzinfo=tzfile('Europe/Madrid'))"
      ]
     },
     "execution_count": 122,
     "metadata": {},
     "output_type": "execute_result"
    }
   ],
   "source": [
    "#20/9/2021 at hour 12 in Madrid timezone\n",
    "dat8 = dt.datetime(2021,9,20,12,0,0,tzinfo=dateutil.tz.gettz(\"Europe/Madrid\"))\n",
    "dat8"
   ]
  },
  {
   "cell_type": "code",
   "execution_count": 123,
   "id": "9f0d0d3d",
   "metadata": {},
   "outputs": [
    {
     "data": {
      "text/plain": [
       "False"
      ]
     },
     "execution_count": 123,
     "metadata": {},
     "output_type": "execute_result"
    }
   ],
   "source": [
    "dat5 == dat6"
   ]
  },
  {
   "cell_type": "code",
   "execution_count": 124,
   "id": "7b3a1df4",
   "metadata": {},
   "outputs": [
    {
     "data": {
      "text/plain": [
       "False"
      ]
     },
     "execution_count": 124,
     "metadata": {},
     "output_type": "execute_result"
    }
   ],
   "source": [
    "dat5 == dat7"
   ]
  },
  {
   "cell_type": "code",
   "execution_count": 125,
   "id": "8c1f7b4d",
   "metadata": {},
   "outputs": [
    {
     "data": {
      "text/plain": [
       "False"
      ]
     },
     "execution_count": 125,
     "metadata": {},
     "output_type": "execute_result"
    }
   ],
   "source": [
    "dat5 == dat8"
   ]
  },
  {
   "cell_type": "code",
   "execution_count": 126,
   "id": "741f0173",
   "metadata": {},
   "outputs": [
    {
     "data": {
      "text/plain": [
       "'WET'"
      ]
     },
     "execution_count": 126,
     "metadata": {},
     "output_type": "execute_result"
    }
   ],
   "source": [
    "dat5.tzname()"
   ]
  },
  {
   "cell_type": "code",
   "execution_count": 127,
   "id": "101fab30",
   "metadata": {},
   "outputs": [
    {
     "data": {
      "text/plain": [
       "datetime.timedelta(0)"
      ]
     },
     "execution_count": 127,
     "metadata": {},
     "output_type": "execute_result"
    }
   ],
   "source": [
    "dat5.dst() "
   ]
  },
  {
   "cell_type": "code",
   "execution_count": 128,
   "id": "231a5d62",
   "metadata": {},
   "outputs": [
    {
     "data": {
      "text/plain": [
       "datetime.timedelta(seconds=3600)"
      ]
     },
     "execution_count": 128,
     "metadata": {},
     "output_type": "execute_result"
    }
   ],
   "source": [
    "dat8.dst()"
   ]
  },
  {
   "cell_type": "code",
   "execution_count": 130,
   "id": "48e5d6d3",
   "metadata": {},
   "outputs": [
    {
     "data": {
      "text/plain": [
       "tzfile('Europe/Lisbon')"
      ]
     },
     "execution_count": 130,
     "metadata": {},
     "output_type": "execute_result"
    }
   ],
   "source": [
    "dat5.tzinfo"
   ]
  },
  {
   "cell_type": "code",
   "execution_count": 132,
   "id": "153a2bdd",
   "metadata": {},
   "outputs": [
    {
     "data": {
      "text/plain": [
       "tzfile('Europe/Madrid')"
      ]
     },
     "execution_count": 132,
     "metadata": {},
     "output_type": "execute_result"
    }
   ],
   "source": [
    "dat8.tzinfo"
   ]
  },
  {
   "cell_type": "code",
   "execution_count": null,
   "id": "51f1c3b9",
   "metadata": {},
   "outputs": [],
   "source": []
  }
 ],
 "metadata": {
  "kernelspec": {
   "display_name": "Python 3 (ipykernel)",
   "language": "python",
   "name": "python3"
  },
  "language_info": {
   "codemirror_mode": {
    "name": "ipython",
    "version": 3
   },
   "file_extension": ".py",
   "mimetype": "text/x-python",
   "name": "python",
   "nbconvert_exporter": "python",
   "pygments_lexer": "ipython3",
   "version": "3.9.7"
  }
 },
 "nbformat": 4,
 "nbformat_minor": 5
}
