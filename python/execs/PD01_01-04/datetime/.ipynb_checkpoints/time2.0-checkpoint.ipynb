{
 "cells": [
  {
   "cell_type": "code",
   "execution_count": 1,
   "id": "7802b2a5",
   "metadata": {},
   "outputs": [],
   "source": [
    "import calendar \n",
    "import time "
   ]
  },
  {
   "cell_type": "code",
   "execution_count": 22,
   "id": "50ea398e",
   "metadata": {},
   "outputs": [
    {
     "data": {
      "text/plain": [
       "time.struct_time(tm_year=2022, tm_mon=4, tm_mday=14, tm_hour=10, tm_min=34, tm_sec=24, tm_wday=3, tm_yday=104, tm_isdst=0)"
      ]
     },
     "execution_count": 22,
     "metadata": {},
     "output_type": "execute_result"
    }
   ],
   "source": [
    "# From seconds since the epoch to struct_time in UTC\n",
    "time.gmtime() "
   ]
  },
  {
   "cell_type": "code",
   "execution_count": 23,
   "id": "d3ed69f0",
   "metadata": {},
   "outputs": [
    {
     "data": {
      "text/plain": [
       "time.struct_time(tm_year=2022, tm_mon=4, tm_mday=14, tm_hour=11, tm_min=34, tm_sec=25, tm_wday=3, tm_yday=104, tm_isdst=1)"
      ]
     },
     "execution_count": 23,
     "metadata": {},
     "output_type": "execute_result"
    }
   ],
   "source": [
    "# From seconds since the epoch to struct_time in local time\n",
    "time.localtime() "
   ]
  },
  {
   "cell_type": "code",
   "execution_count": 26,
   "id": "7ff84df3",
   "metadata": {},
   "outputs": [
    {
     "data": {
      "text/plain": [
       "1649932544"
      ]
     },
     "execution_count": 26,
     "metadata": {},
     "output_type": "execute_result"
    }
   ],
   "source": [
    "# From struct_time in UTC to seconds since the epoch\n",
    "time_UTC = time.gmtime() #actual UTC time in struct\n",
    "calendar.timegm(time_UTC) "
   ]
  },
  {
   "cell_type": "code",
   "execution_count": 38,
   "id": "978af8be",
   "metadata": {},
   "outputs": [
    {
     "data": {
      "text/plain": [
       "1649932797.0"
      ]
     },
     "execution_count": 38,
     "metadata": {},
     "output_type": "execute_result"
    }
   ],
   "source": [
    "# From struct_time in local to seconds since the epoch\n",
    "time_local = time.localtime() #actual local time in struct\n",
    "time.mktime(time_local)"
   ]
  },
  {
   "cell_type": "code",
   "execution_count": 39,
   "id": "b7cfb0cc",
   "metadata": {},
   "outputs": [
    {
     "data": {
      "text/plain": [
       "(2022, 4, 14, 11, 39, 57)"
      ]
     },
     "execution_count": 39,
     "metadata": {},
     "output_type": "execute_result"
    }
   ],
   "source": [
    "time_local.tm_year,time_local.tm_mon,time_local.tm_mday,time_local.tm_hour,time_local.tm_min,time_local.tm_sec"
   ]
  },
  {
   "cell_type": "code",
   "execution_count": 43,
   "id": "eeedffc7",
   "metadata": {},
   "outputs": [
    {
     "data": {
      "text/plain": [
       "1"
      ]
     },
     "execution_count": 43,
     "metadata": {},
     "output_type": "execute_result"
    }
   ],
   "source": [
    "time_local.tm_isdst "
   ]
  },
  {
   "cell_type": "code",
   "execution_count": 46,
   "id": "510754e2",
   "metadata": {},
   "outputs": [
    {
     "data": {
      "text/plain": [
       "(3, 104)"
      ]
     },
     "execution_count": 46,
     "metadata": {},
     "output_type": "execute_result"
    }
   ],
   "source": [
    "time_local.tm_wday,time_local.tm_yday #week day = 3 its \"Thursday\" / yday = day of the year"
   ]
  },
  {
   "cell_type": "code",
   "execution_count": 48,
   "id": "94a44f64",
   "metadata": {},
   "outputs": [
    {
     "data": {
      "text/plain": [
       "1649933161.6460114"
      ]
     },
     "execution_count": 48,
     "metadata": {},
     "output_type": "execute_result"
    }
   ],
   "source": [
    "time.time() # time in seconds since the epoch"
   ]
  },
  {
   "cell_type": "code",
   "execution_count": 49,
   "id": "61a1573b",
   "metadata": {},
   "outputs": [
    {
     "data": {
      "text/plain": [
       "1649933163806087800"
      ]
     },
     "execution_count": 49,
     "metadata": {},
     "output_type": "execute_result"
    }
   ],
   "source": [
    "time .time_ns() #time in nanoseconds since the epoch"
   ]
  },
  {
   "cell_type": "code",
   "execution_count": 50,
   "id": "ce37495c",
   "metadata": {},
   "outputs": [
    {
     "data": {
      "text/plain": [
       "'Thu Apr 14 11:46:24 2022'"
      ]
     },
     "execution_count": 50,
     "metadata": {},
     "output_type": "execute_result"
    }
   ],
   "source": [
    "time.ctime() # returns current time"
   ]
  },
  {
   "cell_type": "code",
   "execution_count": 52,
   "id": "165ef344",
   "metadata": {},
   "outputs": [
    {
     "data": {
      "text/plain": [
       "time.struct_time(tm_year=2022, tm_mon=4, tm_mday=14, tm_hour=11, tm_min=47, tm_sec=44, tm_wday=3, tm_yday=104, tm_isdst=1)"
      ]
     },
     "execution_count": 52,
     "metadata": {},
     "output_type": "execute_result"
    }
   ],
   "source": [
    "local_time = time.localtime() # local time in struct\n",
    "local_time"
   ]
  },
  {
   "cell_type": "code",
   "execution_count": 53,
   "id": "1af538de",
   "metadata": {},
   "outputs": [
    {
     "data": {
      "text/plain": [
       "'GMT Daylight Time'"
      ]
     },
     "execution_count": 53,
     "metadata": {},
     "output_type": "execute_result"
    }
   ],
   "source": [
    "#struct_time time zone attribute\n",
    "local_time.tm_zone"
   ]
  },
  {
   "cell_type": "code",
   "execution_count": 55,
   "id": "bce72cc2",
   "metadata": {},
   "outputs": [
    {
     "data": {
      "text/plain": [
       "3600"
      ]
     },
     "execution_count": 55,
     "metadata": {},
     "output_type": "execute_result"
    }
   ],
   "source": [
    "local_time.tm_gmtoff # the local time where i live its 1 hour offseted / 3600 sec"
   ]
  },
  {
   "cell_type": "code",
   "execution_count": 57,
   "id": "e03ac2ce",
   "metadata": {},
   "outputs": [
    {
     "data": {
      "text/plain": [
       "1"
      ]
     },
     "execution_count": 57,
     "metadata": {},
     "output_type": "execute_result"
    }
   ],
   "source": [
    "local_time.tm_isdst  "
   ]
  },
  {
   "cell_type": "code",
   "execution_count": 58,
   "id": "486713f6",
   "metadata": {},
   "outputs": [
    {
     "data": {
      "text/plain": [
       "1649933264.0"
      ]
     },
     "execution_count": 58,
     "metadata": {},
     "output_type": "execute_result"
    }
   ],
   "source": [
    "#convert local time to seconds from struct_time to seconds time since the epoch\n",
    "#inverse function of localtime()\n",
    "time.mktime(local_time)"
   ]
  },
  {
   "cell_type": "code",
   "execution_count": 63,
   "id": "dba6b848",
   "metadata": {},
   "outputs": [
    {
     "data": {
      "text/plain": [
       "'Thu Apr 14 11:55:30 2022'"
      ]
     },
     "execution_count": 63,
     "metadata": {},
     "output_type": "execute_result"
    }
   ],
   "source": [
    "time.asctime() # returns local time "
   ]
  },
  {
   "cell_type": "code",
   "execution_count": 64,
   "id": "0e8e7b62",
   "metadata": {},
   "outputs": [
    {
     "data": {
      "text/plain": [
       "'Thu Apr 14 10:35:44 2022'"
      ]
     },
     "execution_count": 64,
     "metadata": {},
     "output_type": "execute_result"
    }
   ],
   "source": [
    "time.asctime(time_UTC) # returns UTC time"
   ]
  },
  {
   "cell_type": "code",
   "execution_count": 65,
   "id": "53e8a8d0",
   "metadata": {},
   "outputs": [
    {
     "data": {
      "text/plain": [
       "'22-04-14'"
      ]
     },
     "execution_count": 65,
     "metadata": {},
     "output_type": "execute_result"
    }
   ],
   "source": [
    "time.strftime('%y-%m-%d',time.localtime())"
   ]
  },
  {
   "cell_type": "code",
   "execution_count": 68,
   "id": "c8219948",
   "metadata": {},
   "outputs": [
    {
     "data": {
      "text/plain": [
       "time.struct_time(tm_year=2021, tm_mon=12, tm_mday=25, tm_hour=21, tm_min=45, tm_sec=38, tm_wday=5, tm_yday=359, tm_isdst=-1)"
      ]
     },
     "execution_count": 68,
     "metadata": {},
     "output_type": "execute_result"
    }
   ],
   "source": [
    "#convert a given time in a struct_time\n",
    "time.strptime(\"Sat Dec 25 21:45:38 2021\", '%a %b %d %H:%M:%S %Y')"
   ]
  },
  {
   "cell_type": "code",
   "execution_count": 69,
   "id": "0604fa82",
   "metadata": {},
   "outputs": [],
   "source": [
    "#sunpends the program execution by an amount of time \n",
    "time.sleep(2)"
   ]
  },
  {
   "cell_type": "code",
   "execution_count": 70,
   "id": "bd672502",
   "metadata": {},
   "outputs": [
    {
     "data": {
      "text/plain": [
       "2.0016498999998475"
      ]
     },
     "execution_count": 70,
     "metadata": {},
     "output_type": "execute_result"
    }
   ],
   "source": [
    "#computes the execution time \n",
    "t1 = time.perf_counter()\n",
    "time.sleep(2)\n",
    "t2 = time.perf_counter()\n",
    "t2-t1"
   ]
  },
  {
   "cell_type": "code",
   "execution_count": 71,
   "id": "3c550204",
   "metadata": {},
   "outputs": [
    {
     "data": {
      "text/plain": [
       "2003553700"
      ]
     },
     "execution_count": 71,
     "metadata": {},
     "output_type": "execute_result"
    }
   ],
   "source": [
    "#computes the execution time in nanoseconds\n",
    "t1 = time.perf_counter_ns()\n",
    "time.sleep(2)\n",
    "t2 = time.perf_counter_ns()\n",
    "t2-t1"
   ]
  },
  {
   "cell_type": "code",
   "execution_count": 72,
   "id": "40011350",
   "metadata": {},
   "outputs": [
    {
     "data": {
      "text/plain": [
       "-3600"
      ]
     },
     "execution_count": 72,
     "metadata": {},
     "output_type": "execute_result"
    }
   ],
   "source": [
    "time.altzone"
   ]
  },
  {
   "cell_type": "code",
   "execution_count": 73,
   "id": "b051e82e",
   "metadata": {},
   "outputs": [
    {
     "data": {
      "text/plain": [
       "1"
      ]
     },
     "execution_count": 73,
     "metadata": {},
     "output_type": "execute_result"
    }
   ],
   "source": [
    "time.daylight"
   ]
  },
  {
   "cell_type": "code",
   "execution_count": 74,
   "id": "3dd563b5",
   "metadata": {},
   "outputs": [
    {
     "data": {
      "text/plain": [
       "0"
      ]
     },
     "execution_count": 74,
     "metadata": {},
     "output_type": "execute_result"
    }
   ],
   "source": [
    "time.timezone"
   ]
  },
  {
   "cell_type": "code",
   "execution_count": 75,
   "id": "4886be25",
   "metadata": {},
   "outputs": [
    {
     "data": {
      "text/plain": [
       "('GMT Standard Time', 'GMT Daylight Time')"
      ]
     },
     "execution_count": 75,
     "metadata": {},
     "output_type": "execute_result"
    }
   ],
   "source": [
    "time.tzname"
   ]
  },
  {
   "cell_type": "code",
   "execution_count": null,
   "id": "fb616f3b",
   "metadata": {},
   "outputs": [],
   "source": []
  }
 ],
 "metadata": {
  "kernelspec": {
   "display_name": "Python 3 (ipykernel)",
   "language": "python",
   "name": "python3"
  },
  "language_info": {
   "codemirror_mode": {
    "name": "ipython",
    "version": 3
   },
   "file_extension": ".py",
   "mimetype": "text/x-python",
   "name": "python",
   "nbconvert_exporter": "python",
   "pygments_lexer": "ipython3",
   "version": "3.9.7"
  }
 },
 "nbformat": 4,
 "nbformat_minor": 5
}
