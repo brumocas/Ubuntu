{
 "cells": [
  {
   "cell_type": "code",
   "execution_count": 57,
   "id": "971edbc1",
   "metadata": {},
   "outputs": [],
   "source": [
    "import datetime as dt\n",
    "import time"
   ]
  },
  {
   "cell_type": "code",
   "execution_count": 9,
   "id": "cc03f89d",
   "metadata": {},
   "outputs": [
    {
     "data": {
      "text/plain": [
       "datetime.date(2022, 4, 14)"
      ]
     },
     "execution_count": 9,
     "metadata": {},
     "output_type": "execute_result"
    }
   ],
   "source": [
    "dt.date(year=2022,month=4,day=14)"
   ]
  },
  {
   "cell_type": "code",
   "execution_count": 10,
   "id": "ed48aa1d",
   "metadata": {},
   "outputs": [
    {
     "data": {
      "text/plain": [
       "datetime.date(2022, 4, 14)"
      ]
     },
     "execution_count": 10,
     "metadata": {},
     "output_type": "execute_result"
    }
   ],
   "source": [
    "dt.date(2022,4,14)"
   ]
  },
  {
   "cell_type": "code",
   "execution_count": 11,
   "id": "16d060c7",
   "metadata": {},
   "outputs": [
    {
     "data": {
      "text/plain": [
       "datetime.time(15, 10, 10)"
      ]
     },
     "execution_count": 11,
     "metadata": {},
     "output_type": "execute_result"
    }
   ],
   "source": [
    "dt.time(hour=15,minute=10,second=10)"
   ]
  },
  {
   "cell_type": "code",
   "execution_count": 12,
   "id": "b8477e68",
   "metadata": {},
   "outputs": [
    {
     "data": {
      "text/plain": [
       "datetime.time(15, 10, 10)"
      ]
     },
     "execution_count": 12,
     "metadata": {},
     "output_type": "execute_result"
    }
   ],
   "source": [
    "dt.time(15,10,10)"
   ]
  },
  {
   "cell_type": "code",
   "execution_count": 13,
   "id": "a31fe61b",
   "metadata": {},
   "outputs": [
    {
     "data": {
      "text/plain": [
       "datetime.datetime(2022, 4, 14, 15, 10, 10)"
      ]
     },
     "execution_count": 13,
     "metadata": {},
     "output_type": "execute_result"
    }
   ],
   "source": [
    "dt.datetime(year=2022,month=4,day=14,hour=15,minute=10,second=10)"
   ]
  },
  {
   "cell_type": "code",
   "execution_count": 14,
   "id": "f54f5a24",
   "metadata": {},
   "outputs": [
    {
     "data": {
      "text/plain": [
       "datetime.datetime(2022, 4, 14, 15, 10, 10)"
      ]
     },
     "execution_count": 14,
     "metadata": {},
     "output_type": "execute_result"
    }
   ],
   "source": [
    "dt.datetime(2022,4,14,15,10,10)"
   ]
  },
  {
   "cell_type": "code",
   "execution_count": 16,
   "id": "17ddad3f",
   "metadata": {},
   "outputs": [
    {
     "data": {
      "text/plain": [
       "datetime.date(2022, 4, 14)"
      ]
     },
     "execution_count": 16,
     "metadata": {},
     "output_type": "execute_result"
    }
   ],
   "source": [
    "today = dt.date.today()\n",
    "today"
   ]
  },
  {
   "cell_type": "code",
   "execution_count": 20,
   "id": "35505600",
   "metadata": {},
   "outputs": [
    {
     "data": {
      "text/plain": [
       "datetime.datetime(2022, 4, 14, 15, 48, 23, 899003)"
      ]
     },
     "execution_count": 20,
     "metadata": {},
     "output_type": "execute_result"
    }
   ],
   "source": [
    "today = dt.datetime.now()\n",
    "today"
   ]
  },
  {
   "cell_type": "code",
   "execution_count": 21,
   "id": "7daabe05",
   "metadata": {},
   "outputs": [
    {
     "data": {
      "text/plain": [
       "datetime.date(2022, 4, 14)"
      ]
     },
     "execution_count": 21,
     "metadata": {},
     "output_type": "execute_result"
    }
   ],
   "source": [
    "#creating from a string format \n",
    "#YYYY-MM-DD HH:MM:SS \n",
    "dt.date.fromisoformat(\"2022-04-14\")"
   ]
  },
  {
   "cell_type": "code",
   "execution_count": 25,
   "id": "755dcc62",
   "metadata": {},
   "outputs": [
    {
     "data": {
      "text/plain": [
       "datetime.datetime(2022, 4, 12, 15, 10, 10)"
      ]
     },
     "execution_count": 25,
     "metadata": {},
     "output_type": "execute_result"
    }
   ],
   "source": [
    "date_str = \"04/12/2022 15:10:10\"\n",
    "date_fmt_str = \"%m/%d/%Y %H:%M:%S\"\n",
    "dt.datetime.strptime(date_str,date_fmt_str)"
   ]
  },
  {
   "cell_type": "code",
   "execution_count": 26,
   "id": "ec4397ba",
   "metadata": {},
   "outputs": [],
   "source": [
    "###TIME DELTA"
   ]
  },
  {
   "cell_type": "code",
   "execution_count": 29,
   "id": "11867751",
   "metadata": {},
   "outputs": [
    {
     "data": {
      "text/plain": [
       "datetime.date(2022, 4, 14)"
      ]
     },
     "execution_count": 29,
     "metadata": {},
     "output_type": "execute_result"
    }
   ],
   "source": [
    "today = dt.date.today()\n",
    "today"
   ]
  },
  {
   "cell_type": "code",
   "execution_count": 30,
   "id": "994baafc",
   "metadata": {},
   "outputs": [
    {
     "data": {
      "text/plain": [
       "datetime.datetime(2022, 4, 14, 15, 54, 44, 103098)"
      ]
     },
     "execution_count": 30,
     "metadata": {},
     "output_type": "execute_result"
    }
   ],
   "source": [
    "today = dt.datetime.now()\n",
    "today"
   ]
  },
  {
   "cell_type": "code",
   "execution_count": 31,
   "id": "f9cb75e7",
   "metadata": {},
   "outputs": [
    {
     "data": {
      "text/plain": [
       "datetime.datetime(2022, 4, 16, 15, 54, 44, 103098)"
      ]
     },
     "execution_count": 31,
     "metadata": {},
     "output_type": "execute_result"
    }
   ],
   "source": [
    "#adding 2 days\n",
    "after_tomorrow = dt.timedelta(days=+2)\n",
    "today + after_tomorrow"
   ]
  },
  {
   "cell_type": "code",
   "execution_count": 33,
   "id": "b170f8c7",
   "metadata": {},
   "outputs": [
    {
     "data": {
      "text/plain": [
       "datetime.datetime(2022, 4, 12, 15, 54, 44, 103098)"
      ]
     },
     "execution_count": 33,
     "metadata": {},
     "output_type": "execute_result"
    }
   ],
   "source": [
    "#subtracting 2 days \n",
    "before_tomorrow = dt.timedelta(days=-2)\n",
    "today + before_tomorrow"
   ]
  },
  {
   "cell_type": "code",
   "execution_count": 36,
   "id": "c3d1fdaa",
   "metadata": {},
   "outputs": [
    {
     "data": {
      "text/plain": [
       "datetime.datetime(2022, 4, 16, 12, 54, 44, 103098)"
      ]
     },
     "execution_count": 36,
     "metadata": {},
     "output_type": "execute_result"
    }
   ],
   "source": [
    "#adding 2 days and subtracting 3 hours\n",
    "delta = dt.timedelta(days=+2,hours=-3)\n",
    "today + delta"
   ]
  },
  {
   "cell_type": "code",
   "execution_count": 37,
   "id": "564a2236",
   "metadata": {},
   "outputs": [
    {
     "data": {
      "text/plain": [
       "datetime.datetime(2022, 4, 14, 15, 54, 44, 103098)"
      ]
     },
     "execution_count": 37,
     "metadata": {},
     "output_type": "execute_result"
    }
   ],
   "source": [
    "today "
   ]
  },
  {
   "cell_type": "code",
   "execution_count": 38,
   "id": "12177143",
   "metadata": {},
   "outputs": [
    {
     "data": {
      "text/plain": [
       "(2022, 4, 14)"
      ]
     },
     "execution_count": 38,
     "metadata": {},
     "output_type": "execute_result"
    }
   ],
   "source": [
    "today.year,today.month,today.day"
   ]
  },
  {
   "cell_type": "code",
   "execution_count": 39,
   "id": "12d3d8a5",
   "metadata": {},
   "outputs": [
    {
     "data": {
      "text/plain": [
       "3"
      ]
     },
     "execution_count": 39,
     "metadata": {},
     "output_type": "execute_result"
    }
   ],
   "source": [
    "#Returns the day of the week  (Monday = 0 )\n",
    "today.weekday()"
   ]
  },
  {
   "cell_type": "code",
   "execution_count": 40,
   "id": "66126557",
   "metadata": {},
   "outputs": [
    {
     "data": {
      "text/plain": [
       "4"
      ]
     },
     "execution_count": 40,
     "metadata": {},
     "output_type": "execute_result"
    }
   ],
   "source": [
    "#Returns the day of the week (Monday = 1)\n",
    "today.isoweekday()"
   ]
  },
  {
   "cell_type": "code",
   "execution_count": 42,
   "id": "6ca25613",
   "metadata": {},
   "outputs": [
    {
     "data": {
      "text/plain": [
       "datetime.IsoCalendarDate(year=2022, week=15, weekday=4)"
      ]
     },
     "execution_count": 42,
     "metadata": {},
     "output_type": "execute_result"
    }
   ],
   "source": [
    "#Returns the year, week , weekday\n",
    "#The first week is the first week containing a Thursday\n",
    "today.isocalendar()"
   ]
  },
  {
   "cell_type": "code",
   "execution_count": 44,
   "id": "f4db727c",
   "metadata": {},
   "outputs": [
    {
     "data": {
      "text/plain": [
       "'2022-04-14T15:54:44.103098'"
      ]
     },
     "execution_count": 44,
     "metadata": {},
     "output_type": "execute_result"
    }
   ],
   "source": [
    "#Returns the date string in iso format YYYY-MM-DD\n",
    "today.isoformat()"
   ]
  },
  {
   "cell_type": "code",
   "execution_count": 45,
   "id": "8b78e1f7",
   "metadata": {},
   "outputs": [
    {
     "data": {
      "text/plain": [
       "'14/04/22'"
      ]
     },
     "execution_count": 45,
     "metadata": {},
     "output_type": "execute_result"
    }
   ],
   "source": [
    "#Returns a data string controlled by the format\n",
    "today.strftime(\"%d/%m/%y\")"
   ]
  },
  {
   "cell_type": "code",
   "execution_count": 46,
   "id": "46c88a48",
   "metadata": {},
   "outputs": [
    {
     "data": {
      "text/plain": [
       "'14/04/2022'"
      ]
     },
     "execution_count": 46,
     "metadata": {},
     "output_type": "execute_result"
    }
   ],
   "source": [
    "#Returns a data string controlled by the format\n",
    "today.strftime(\"%d/%m/%Y\")"
   ]
  },
  {
   "cell_type": "code",
   "execution_count": 47,
   "id": "9f293d1d",
   "metadata": {},
   "outputs": [],
   "source": [
    "###Date time objects\n"
   ]
  },
  {
   "cell_type": "code",
   "execution_count": 49,
   "id": "8d45bd04",
   "metadata": {},
   "outputs": [
    {
     "data": {
      "text/plain": [
       "datetime.datetime(2016, 6, 10, 22, 0, 10, 12)"
      ]
     },
     "execution_count": 49,
     "metadata": {},
     "output_type": "execute_result"
    }
   ],
   "source": [
    "new_time = dt.datetime(2016,6,10,22,0,10,12)\n",
    "new_time"
   ]
  },
  {
   "cell_type": "code",
   "execution_count": 51,
   "id": "83762c6c",
   "metadata": {},
   "outputs": [
    {
     "data": {
      "text/plain": [
       "(2016, 6, 10)"
      ]
     },
     "execution_count": 51,
     "metadata": {},
     "output_type": "execute_result"
    }
   ],
   "source": [
    "new_time.year,new_time.month,new_time.day"
   ]
  },
  {
   "cell_type": "code",
   "execution_count": 53,
   "id": "55eb446a",
   "metadata": {},
   "outputs": [
    {
     "data": {
      "text/plain": [
       "datetime.datetime(2022, 4, 14, 15, 13, 1, 147918)"
      ]
     },
     "execution_count": 53,
     "metadata": {},
     "output_type": "execute_result"
    }
   ],
   "source": [
    "#Returns current UTC date and time\n",
    "dt1 = dt.datetime.utcnow()\n",
    "dt1"
   ]
  },
  {
   "cell_type": "code",
   "execution_count": 59,
   "id": "45dbcba0",
   "metadata": {},
   "outputs": [
    {
     "data": {
      "text/plain": [
       "datetime.datetime(2022, 4, 14, 16, 16, 20, 851025)"
      ]
     },
     "execution_count": 59,
     "metadata": {},
     "output_type": "execute_result"
    }
   ],
   "source": [
    "#Returns the current local date and time\n",
    "dt1 = dt.datetime.today()\n",
    "dt1"
   ]
  },
  {
   "cell_type": "code",
   "execution_count": 60,
   "id": "aff6836a",
   "metadata": {},
   "outputs": [
    {
     "data": {
      "text/plain": [
       "datetime.datetime(2022, 4, 14, 16, 16, 25, 592657)"
      ]
     },
     "execution_count": 60,
     "metadata": {},
     "output_type": "execute_result"
    }
   ],
   "source": [
    "#Local date from timestamp\n",
    "dt.datetime.fromtimestamp(time.time())"
   ]
  },
  {
   "cell_type": "code",
   "execution_count": 61,
   "id": "9f039613",
   "metadata": {},
   "outputs": [
    {
     "data": {
      "text/plain": [
       "(2022, 4, 14)"
      ]
     },
     "execution_count": 61,
     "metadata": {},
     "output_type": "execute_result"
    }
   ],
   "source": [
    "dt1.year,dt1.month,dt1.day"
   ]
  },
  {
   "cell_type": "code",
   "execution_count": 64,
   "id": "1cda2d93",
   "metadata": {},
   "outputs": [
    {
     "data": {
      "text/plain": [
       "(16, 16, 20, 851025)"
      ]
     },
     "execution_count": 64,
     "metadata": {},
     "output_type": "execute_result"
    }
   ],
   "source": [
    "dt1.hour,dt1.minute,dt1.second,dt1.microsecond"
   ]
  },
  {
   "cell_type": "code",
   "execution_count": 66,
   "id": "1b9e8383",
   "metadata": {},
   "outputs": [
    {
     "data": {
      "text/plain": [
       "(None, 0)"
      ]
     },
     "execution_count": 66,
     "metadata": {},
     "output_type": "execute_result"
    }
   ],
   "source": [
    "dt1.tzinfo,dt1.fold"
   ]
  },
  {
   "cell_type": "code",
   "execution_count": 69,
   "id": "3d6f3ac7",
   "metadata": {},
   "outputs": [
    {
     "data": {
      "text/plain": [
       "datetime.date(2022, 4, 14)"
      ]
     },
     "execution_count": 69,
     "metadata": {},
     "output_type": "execute_result"
    }
   ],
   "source": [
    "dt1.date()\n"
   ]
  },
  {
   "cell_type": "code",
   "execution_count": 70,
   "id": "3e7bcbdc",
   "metadata": {},
   "outputs": [
    {
     "data": {
      "text/plain": [
       "datetime.date(2022, 4, 14)"
      ]
     },
     "execution_count": 70,
     "metadata": {},
     "output_type": "execute_result"
    }
   ],
   "source": [
    "today.date()"
   ]
  },
  {
   "cell_type": "code",
   "execution_count": 71,
   "id": "d392df73",
   "metadata": {},
   "outputs": [
    {
     "data": {
      "text/plain": [
       "datetime.time(16, 16, 20, 851025)"
      ]
     },
     "execution_count": 71,
     "metadata": {},
     "output_type": "execute_result"
    }
   ],
   "source": [
    "dt1.time()"
   ]
  },
  {
   "cell_type": "code",
   "execution_count": 72,
   "id": "7db49a5b",
   "metadata": {},
   "outputs": [
    {
     "data": {
      "text/plain": [
       "datetime.time(15, 54, 44, 103098)"
      ]
     },
     "execution_count": 72,
     "metadata": {},
     "output_type": "execute_result"
    }
   ],
   "source": [
    "today.time()"
   ]
  },
  {
   "cell_type": "code",
   "execution_count": 73,
   "id": "d981b776",
   "metadata": {},
   "outputs": [
    {
     "data": {
      "text/plain": [
       "datetime.time(16, 16, 20, 851025)"
      ]
     },
     "execution_count": 73,
     "metadata": {},
     "output_type": "execute_result"
    }
   ],
   "source": [
    "#Returns time objects with tzinfo atributes\n",
    "dt1.timetz()"
   ]
  },
  {
   "cell_type": "code",
   "execution_count": 78,
   "id": "a1686394",
   "metadata": {},
   "outputs": [],
   "source": [
    "#Returns a datetime object with new tzinfo atribute tz\n",
    "dt1 = dt1.astimezone(tz=None)"
   ]
  },
  {
   "cell_type": "code",
   "execution_count": 81,
   "id": "2d234408",
   "metadata": {},
   "outputs": [
    {
     "data": {
      "text/plain": [
       "'GMT Daylight Time'"
      ]
     },
     "execution_count": 81,
     "metadata": {},
     "output_type": "execute_result"
    }
   ],
   "source": [
    "#Returns self.tzinfo.tzname\n",
    "dt1.tzname()"
   ]
  },
  {
   "cell_type": "code",
   "execution_count": 83,
   "id": "597be60a",
   "metadata": {},
   "outputs": [
    {
     "data": {
      "text/plain": [
       "time.struct_time(tm_year=2022, tm_mon=4, tm_mday=14, tm_hour=16, tm_min=16, tm_sec=20, tm_wday=3, tm_yday=104, tm_isdst=-1)"
      ]
     },
     "execution_count": 83,
     "metadata": {},
     "output_type": "execute_result"
    }
   ],
   "source": [
    "#Returns a struct time\n",
    "dt1.timetuple()"
   ]
  },
  {
   "cell_type": "code",
   "execution_count": 84,
   "id": "e9426980",
   "metadata": {},
   "outputs": [
    {
     "data": {
      "text/plain": [
       "3"
      ]
     },
     "execution_count": 84,
     "metadata": {},
     "output_type": "execute_result"
    }
   ],
   "source": [
    "#Return the day of the week (Monday = 0)\n",
    "dt1.weekday()"
   ]
  },
  {
   "cell_type": "code",
   "execution_count": 86,
   "id": "dccf554e",
   "metadata": {},
   "outputs": [
    {
     "data": {
      "text/plain": [
       "4"
      ]
     },
     "execution_count": 86,
     "metadata": {},
     "output_type": "execute_result"
    }
   ],
   "source": [
    "#Return the day of the week (Monday = 1)\n",
    "dt1.isoweekday()"
   ]
  },
  {
   "cell_type": "code",
   "execution_count": 88,
   "id": "9f7a96e8",
   "metadata": {},
   "outputs": [
    {
     "data": {
      "text/plain": [
       "datetime.IsoCalendarDate(year=2022, week=15, weekday=4)"
      ]
     },
     "execution_count": 88,
     "metadata": {},
     "output_type": "execute_result"
    }
   ],
   "source": [
    "#returns the year , week and weekday\n",
    "#The first week is the first week containing a Thursday\n",
    "dt1.isocalendar()"
   ]
  },
  {
   "cell_type": "code",
   "execution_count": 91,
   "id": "ff4ba3eb",
   "metadata": {},
   "outputs": [
    {
     "data": {
      "text/plain": [
       "'2022-04-14T16:16:20.851025+01:00'"
      ]
     },
     "execution_count": 91,
     "metadata": {},
     "output_type": "execute_result"
    }
   ],
   "source": [
    "#Returns data strin in iso format\n",
    "#YYYY-MM-DDTHH:MM:SS:ffffff\n",
    "dt1.isoformat()"
   ]
  },
  {
   "cell_type": "code",
   "execution_count": 92,
   "id": "e582412d",
   "metadata": {},
   "outputs": [
    {
     "data": {
      "text/plain": [
       "'Thu Apr 14 16:16:20 2022'"
      ]
     },
     "execution_count": 92,
     "metadata": {},
     "output_type": "execute_result"
    }
   ],
   "source": [
    "#Returns a date string \n",
    "dt1.ctime()"
   ]
  },
  {
   "cell_type": "code",
   "execution_count": 93,
   "id": "51d5efe2",
   "metadata": {},
   "outputs": [
    {
     "data": {
      "text/plain": [
       "'Thursday, 14. April 2022 04:16PM'"
      ]
     },
     "execution_count": 93,
     "metadata": {},
     "output_type": "execute_result"
    }
   ],
   "source": [
    "#Returns a date string controlled by the format\n",
    "dt1.strftime(\"%A, %d. %B %Y %I:%M%p\")\n"
   ]
  },
  {
   "cell_type": "code",
   "execution_count": 94,
   "id": "0371a2de",
   "metadata": {},
   "outputs": [
    {
     "data": {
      "text/plain": [
       "datetime.time(16, 10, 20, 21312)"
      ]
     },
     "execution_count": 94,
     "metadata": {},
     "output_type": "execute_result"
    }
   ],
   "source": [
    "\n",
    "t1 = dt.time(16,10,20,21312)\n",
    "t1\n"
   ]
  },
  {
   "cell_type": "code",
   "execution_count": 95,
   "id": "c61c6708",
   "metadata": {},
   "outputs": [
    {
     "data": {
      "text/plain": [
       "(16, 10, 20, 21312)"
      ]
     },
     "execution_count": 95,
     "metadata": {},
     "output_type": "execute_result"
    }
   ],
   "source": [
    "t1.hour,t1.minute,t1.second,t1.microsecond"
   ]
  },
  {
   "cell_type": "code",
   "execution_count": 96,
   "id": "34ff9d22",
   "metadata": {},
   "outputs": [
    {
     "data": {
      "text/plain": [
       "(None, 0)"
      ]
     },
     "execution_count": 96,
     "metadata": {},
     "output_type": "execute_result"
    }
   ],
   "source": [
    "t1.tzinfo,t1.fold"
   ]
  },
  {
   "cell_type": "code",
   "execution_count": 97,
   "id": "6dbff514",
   "metadata": {},
   "outputs": [
    {
     "data": {
      "text/plain": [
       "'16:10:20.021312'"
      ]
     },
     "execution_count": 97,
     "metadata": {},
     "output_type": "execute_result"
    }
   ],
   "source": [
    "#Returns a string in iso format\n",
    "t1.isoformat()"
   ]
  },
  {
   "cell_type": "code",
   "execution_count": 98,
   "id": "3dbeca0f",
   "metadata": {},
   "outputs": [
    {
     "data": {
      "text/plain": [
       "'16:10:20.021312'"
      ]
     },
     "execution_count": 98,
     "metadata": {},
     "output_type": "execute_result"
    }
   ],
   "source": [
    "#Returns a string controlled by the format\n",
    "t1.strftime(\"%H:%M:%S.%f\")"
   ]
  },
  {
   "cell_type": "code",
   "execution_count": 100,
   "id": "a5610d3d",
   "metadata": {},
   "outputs": [],
   "source": [
    "#Returns dst -self.tzinfo.dst(None)\n",
    "t1.dst()"
   ]
  },
  {
   "cell_type": "code",
   "execution_count": 101,
   "id": "03bb5b40",
   "metadata": {},
   "outputs": [],
   "source": [
    "#Returns self.tzinfo.tzname()\n",
    "t1.tzname()"
   ]
  },
  {
   "cell_type": "code",
   "execution_count": null,
   "id": "d6fa1585",
   "metadata": {},
   "outputs": [],
   "source": []
  }
 ],
 "metadata": {
  "kernelspec": {
   "display_name": "Python 3 (ipykernel)",
   "language": "python",
   "name": "python3"
  },
  "language_info": {
   "codemirror_mode": {
    "name": "ipython",
    "version": 3
   },
   "file_extension": ".py",
   "mimetype": "text/x-python",
   "name": "python",
   "nbconvert_exporter": "python",
   "pygments_lexer": "ipython3",
   "version": "3.9.7"
  }
 },
 "nbformat": 4,
 "nbformat_minor": 5
}
