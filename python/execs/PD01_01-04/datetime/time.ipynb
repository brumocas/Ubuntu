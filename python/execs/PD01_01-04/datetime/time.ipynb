{
 "cells": [
  {
   "cell_type": "code",
   "execution_count": 1,
   "id": "ce431b9f",
   "metadata": {},
   "outputs": [],
   "source": [
    "import calendar\n",
    "import time"
   ]
  },
  {
   "cell_type": "code",
   "execution_count": 2,
   "id": "0e832521",
   "metadata": {},
   "outputs": [
    {
     "data": {
      "text/plain": [
       "time.struct_time(tm_year=1970, tm_mon=1, tm_mday=1, tm_hour=0, tm_min=0, tm_sec=0, tm_wday=3, tm_yday=1, tm_isdst=0)"
      ]
     },
     "execution_count": 2,
     "metadata": {},
     "output_type": "execute_result"
    }
   ],
   "source": [
    "time.gmtime(0) "
   ]
  },
  {
   "cell_type": "code",
   "execution_count": 3,
   "id": "4fbb7c80",
   "metadata": {},
   "outputs": [
    {
     "data": {
      "text/plain": [
       "time.struct_time(tm_year=2022, tm_mon=4, tm_mday=13, tm_hour=11, tm_min=6, tm_sec=3, tm_wday=2, tm_yday=103, tm_isdst=0)"
      ]
     },
     "execution_count": 3,
     "metadata": {},
     "output_type": "execute_result"
    }
   ],
   "source": [
    "time_UTC = time.gmtime()\n",
    "time_UTC"
   ]
  },
  {
   "cell_type": "code",
   "execution_count": 4,
   "id": "c706219e",
   "metadata": {},
   "outputs": [
    {
     "data": {
      "text/plain": [
       "1649847963"
      ]
     },
     "execution_count": 4,
     "metadata": {},
     "output_type": "execute_result"
    }
   ],
   "source": [
    "calendar.timegm(time_UTC)"
   ]
  },
  {
   "cell_type": "code",
   "execution_count": 5,
   "id": "dd6652c2",
   "metadata": {},
   "outputs": [
    {
     "data": {
      "text/plain": [
       "(2022, 4, 13)"
      ]
     },
     "execution_count": 5,
     "metadata": {},
     "output_type": "execute_result"
    }
   ],
   "source": [
    "time_UTC.tm_year,time_UTC.tm_mon,time_UTC.tm_mday"
   ]
  },
  {
   "cell_type": "code",
   "execution_count": 9,
   "id": "72bdaf70",
   "metadata": {},
   "outputs": [
    {
     "data": {
      "text/plain": [
       "(11, 6, 3)"
      ]
     },
     "execution_count": 9,
     "metadata": {},
     "output_type": "execute_result"
    }
   ],
   "source": [
    "time_UTC.tm_hour,time_UTC.tm_min,time_UTC.tm_sec"
   ]
  },
  {
   "cell_type": "code",
   "execution_count": 10,
   "id": "17a3c369",
   "metadata": {},
   "outputs": [
    {
     "data": {
      "text/plain": [
       "(11, 6, 3)"
      ]
     },
     "execution_count": 10,
     "metadata": {},
     "output_type": "execute_result"
    }
   ],
   "source": [
    "time_UTC.tm_hour,time_UTC.tm_min,time_UTC.tm_sec"
   ]
  },
  {
   "cell_type": "code",
   "execution_count": 11,
   "id": "c51d8e99",
   "metadata": {},
   "outputs": [
    {
     "data": {
      "text/plain": [
       "1649848259.7784867"
      ]
     },
     "execution_count": 11,
     "metadata": {},
     "output_type": "execute_result"
    }
   ],
   "source": [
    "time.time()"
   ]
  },
  {
   "cell_type": "code",
   "execution_count": 12,
   "id": "170a6c3f",
   "metadata": {},
   "outputs": [
    {
     "data": {
      "text/plain": [
       "1649848280675513000"
      ]
     },
     "execution_count": 12,
     "metadata": {},
     "output_type": "execute_result"
    }
   ],
   "source": [
    "time.time_ns()"
   ]
  },
  {
   "cell_type": "code",
   "execution_count": 13,
   "id": "3d02e4e8",
   "metadata": {},
   "outputs": [
    {
     "data": {
      "text/plain": [
       "'Wed Apr 13 12:11:29 2022'"
      ]
     },
     "execution_count": 13,
     "metadata": {},
     "output_type": "execute_result"
    }
   ],
   "source": [
    "time.ctime()"
   ]
  },
  {
   "cell_type": "code",
   "execution_count": 14,
   "id": "20b28774",
   "metadata": {},
   "outputs": [],
   "source": [
    "local_time = time.localtime()"
   ]
  },
  {
   "cell_type": "code",
   "execution_count": 15,
   "id": "c2d97fb4",
   "metadata": {},
   "outputs": [
    {
     "data": {
      "text/plain": [
       "time.struct_time(tm_year=2022, tm_mon=4, tm_mday=13, tm_hour=12, tm_min=12, tm_sec=33, tm_wday=2, tm_yday=103, tm_isdst=1)"
      ]
     },
     "execution_count": 15,
     "metadata": {},
     "output_type": "execute_result"
    }
   ],
   "source": [
    "local_time"
   ]
  },
  {
   "cell_type": "code",
   "execution_count": 16,
   "id": "29ddd0dd",
   "metadata": {},
   "outputs": [
    {
     "data": {
      "text/plain": [
       "'GMT Daylight Time'"
      ]
     },
     "execution_count": 16,
     "metadata": {},
     "output_type": "execute_result"
    }
   ],
   "source": [
    "local_time.tm_zone"
   ]
  },
  {
   "cell_type": "code",
   "execution_count": 17,
   "id": "7eecb6c3",
   "metadata": {},
   "outputs": [
    {
     "data": {
      "text/plain": [
       "1649848353.0"
      ]
     },
     "execution_count": 17,
     "metadata": {},
     "output_type": "execute_result"
    }
   ],
   "source": [
    "time.mktime(local_time)"
   ]
  },
  {
   "cell_type": "code",
   "execution_count": 18,
   "id": "dd81d78f",
   "metadata": {},
   "outputs": [
    {
     "data": {
      "text/plain": [
       "'Wed Apr 13 12:14:57 2022'"
      ]
     },
     "execution_count": 18,
     "metadata": {},
     "output_type": "execute_result"
    }
   ],
   "source": [
    "time.asctime()"
   ]
  },
  {
   "cell_type": "code",
   "execution_count": 19,
   "id": "e45f1725",
   "metadata": {},
   "outputs": [
    {
     "data": {
      "text/plain": [
       "'2022-04-13'"
      ]
     },
     "execution_count": 19,
     "metadata": {},
     "output_type": "execute_result"
    }
   ],
   "source": [
    "time.strftime('%Y-%m-%d',time.localtime())"
   ]
  },
  {
   "cell_type": "code",
   "execution_count": 24,
   "id": "432f60d1",
   "metadata": {},
   "outputs": [],
   "source": [
    "time.sleep(10)"
   ]
  },
  {
   "cell_type": "code",
   "execution_count": 26,
   "id": "c4585110",
   "metadata": {},
   "outputs": [
    {
     "data": {
      "text/plain": [
       "2.507888600000115"
      ]
     },
     "execution_count": 26,
     "metadata": {},
     "output_type": "execute_result"
    }
   ],
   "source": [
    "t1 = time.perf_counter()\n",
    "time.sleep(2.5)\n",
    "t2 = time.perf_counter()\n",
    "\n",
    "t2-t1"
   ]
  },
  {
   "cell_type": "code",
   "execution_count": null,
   "id": "af3520e8",
   "metadata": {},
   "outputs": [],
   "source": []
  }
 ],
 "metadata": {
  "kernelspec": {
   "display_name": "Python 3 (ipykernel)",
   "language": "python",
   "name": "python3"
  },
  "language_info": {
   "codemirror_mode": {
    "name": "ipython",
    "version": 3
   },
   "file_extension": ".py",
   "mimetype": "text/x-python",
   "name": "python",
   "nbconvert_exporter": "python",
   "pygments_lexer": "ipython3",
   "version": "3.9.7"
  }
 },
 "nbformat": 4,
 "nbformat_minor": 5
}
