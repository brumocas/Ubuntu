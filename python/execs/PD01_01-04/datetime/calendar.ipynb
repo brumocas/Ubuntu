{
 "cells": [
  {
   "cell_type": "code",
   "execution_count": 22,
   "id": "4e8d256a",
   "metadata": {},
   "outputs": [
    {
     "name": "stdout",
     "output_type": "stream",
     "text": [
      "                                  2002\n",
      "\n",
      "      January                   February                   March\n",
      "Mo Tu We Th Fr Sa Su      Mo Tu We Th Fr Sa Su      Mo Tu We Th Fr Sa Su\n",
      "    1  2  3  4  5  6                   1  2  3                   1  2  3\n",
      " 7  8  9 10 11 12 13       4  5  6  7  8  9 10       4  5  6  7  8  9 10\n",
      "14 15 16 17 18 19 20      11 12 13 14 15 16 17      11 12 13 14 15 16 17\n",
      "21 22 23 24 25 26 27      18 19 20 21 22 23 24      18 19 20 21 22 23 24\n",
      "28 29 30 31               25 26 27 28               25 26 27 28 29 30 31\n",
      "\n",
      "       April                      May                       June\n",
      "Mo Tu We Th Fr Sa Su      Mo Tu We Th Fr Sa Su      Mo Tu We Th Fr Sa Su\n",
      " 1  2  3  4  5  6  7             1  2  3  4  5                      1  2\n",
      " 8  9 10 11 12 13 14       6  7  8  9 10 11 12       3  4  5  6  7  8  9\n",
      "15 16 17 18 19 20 21      13 14 15 16 17 18 19      10 11 12 13 14 15 16\n",
      "22 23 24 25 26 27 28      20 21 22 23 24 25 26      17 18 19 20 21 22 23\n",
      "29 30                     27 28 29 30 31            24 25 26 27 28 29 30\n",
      "\n",
      "        July                     August                  September\n",
      "Mo Tu We Th Fr Sa Su      Mo Tu We Th Fr Sa Su      Mo Tu We Th Fr Sa Su\n",
      " 1  2  3  4  5  6  7                1  2  3  4                         1\n",
      " 8  9 10 11 12 13 14       5  6  7  8  9 10 11       2  3  4  5  6  7  8\n",
      "15 16 17 18 19 20 21      12 13 14 15 16 17 18       9 10 11 12 13 14 15\n",
      "22 23 24 25 26 27 28      19 20 21 22 23 24 25      16 17 18 19 20 21 22\n",
      "29 30 31                  26 27 28 29 30 31         23 24 25 26 27 28 29\n",
      "                                                    30\n",
      "\n",
      "      October                   November                  December\n",
      "Mo Tu We Th Fr Sa Su      Mo Tu We Th Fr Sa Su      Mo Tu We Th Fr Sa Su\n",
      "    1  2  3  4  5  6                   1  2  3                         1\n",
      " 7  8  9 10 11 12 13       4  5  6  7  8  9 10       2  3  4  5  6  7  8\n",
      "14 15 16 17 18 19 20      11 12 13 14 15 16 17       9 10 11 12 13 14 15\n",
      "21 22 23 24 25 26 27      18 19 20 21 22 23 24      16 17 18 19 20 21 22\n",
      "28 29 30 31               25 26 27 28 29 30         23 24 25 26 27 28 29\n",
      "                                                    30 31\n",
      "\n"
     ]
    }
   ],
   "source": [
    "import calendar\n",
    "print(calendar.calendar(2002)) #print year calendar"
   ]
  },
  {
   "cell_type": "code",
   "execution_count": 23,
   "id": "5ac27b87",
   "metadata": {},
   "outputs": [
    {
     "name": "stdout",
     "output_type": "stream",
     "text": [
      "   December 2002\n",
      "Mo Tu We Th Fr Sa Su\n",
      "                   1\n",
      " 2  3  4  5  6  7  8\n",
      " 9 10 11 12 13 14 15\n",
      "16 17 18 19 20 21 22\n",
      "23 24 25 26 27 28 29\n",
      "30 31\n",
      "\n"
     ]
    }
   ],
   "source": [
    "print(calendar.month(2002,12)) #print month of a certain year"
   ]
  },
  {
   "cell_type": "code",
   "execution_count": 24,
   "id": "ecc967d9",
   "metadata": {},
   "outputs": [
    {
     "data": {
      "text/plain": [
       "[[0, 0, 0, 0, 0, 0, 1],\n",
       " [2, 3, 4, 5, 6, 7, 8],\n",
       " [9, 10, 11, 12, 13, 14, 15],\n",
       " [16, 17, 18, 19, 20, 21, 22],\n",
       " [23, 24, 25, 26, 27, 28, 29],\n",
       " [30, 31, 0, 0, 0, 0, 0]]"
      ]
     },
     "execution_count": 24,
     "metadata": {},
     "output_type": "execute_result"
    }
   ],
   "source": [
    "calendar.monthcalendar(2022,5) #get week days of a month in a matrix"
   ]
  },
  {
   "cell_type": "code",
   "execution_count": 25,
   "id": "5bd3ba7c",
   "metadata": {},
   "outputs": [
    {
     "data": {
      "text/plain": [
       "True"
      ]
     },
     "execution_count": 25,
     "metadata": {},
     "output_type": "execute_result"
    }
   ],
   "source": [
    "calendar.isleap(2016) #check if year is leap"
   ]
  },
  {
   "cell_type": "code",
   "execution_count": 26,
   "id": "c8c3563a",
   "metadata": {},
   "outputs": [
    {
     "data": {
      "text/plain": [
       "False"
      ]
     },
     "execution_count": 26,
     "metadata": {},
     "output_type": "execute_result"
    }
   ],
   "source": [
    "calendar.isleap(2022)"
   ]
  },
  {
   "cell_type": "code",
   "execution_count": 30,
   "id": "a869b166",
   "metadata": {},
   "outputs": [
    {
     "data": {
      "text/plain": [
       "2"
      ]
     },
     "execution_count": 30,
     "metadata": {},
     "output_type": "execute_result"
    }
   ],
   "source": [
    "calendar.setfirstweekday(2) #default 0 - Monday\n",
    "calendar.firstweekday()     #get first day of the week"
   ]
  },
  {
   "cell_type": "code",
   "execution_count": 31,
   "id": "6992f623",
   "metadata": {},
   "outputs": [
    {
     "data": {
      "text/plain": [
       "(3, 30)"
      ]
     },
     "execution_count": 31,
     "metadata": {},
     "output_type": "execute_result"
    }
   ],
   "source": [
    "calendar.monthrange(2022,9) #day of the week of the first day (0 - Monday , and so on)\n",
    "                            #number of days in the month "
   ]
  },
  {
   "cell_type": "code",
   "execution_count": 32,
   "id": "b5149bf8",
   "metadata": {},
   "outputs": [
    {
     "data": {
      "text/plain": [
       "(1, 28)"
      ]
     },
     "execution_count": 32,
     "metadata": {},
     "output_type": "execute_result"
    }
   ],
   "source": [
    "calendar.monthrange(2022,2)"
   ]
  },
  {
   "cell_type": "code",
   "execution_count": 33,
   "id": "597e4084",
   "metadata": {},
   "outputs": [
    {
     "data": {
      "text/plain": [
       "2"
      ]
     },
     "execution_count": 33,
     "metadata": {},
     "output_type": "execute_result"
    }
   ],
   "source": [
    "calendar.weekday(2022,4,27) #day of the week of a date"
   ]
  },
  {
   "cell_type": "code",
   "execution_count": 34,
   "id": "ccb66831",
   "metadata": {},
   "outputs": [
    {
     "name": "stdout",
     "output_type": "stream",
     "text": [
      "Monday\n",
      "Tuesday\n",
      "Wednesday\n",
      "Thursday\n",
      "Friday\n",
      "Saturday\n",
      "Sunday\n"
     ]
    }
   ],
   "source": [
    "for i in range (7):\n",
    "    print(calendar.day_name[i])"
   ]
  },
  {
   "cell_type": "code",
   "execution_count": 13,
   "id": "5f8c3961",
   "metadata": {},
   "outputs": [
    {
     "data": {
      "text/plain": [
       "['Monday', 'Tuesday', 'Wednesday', 'Thursday', 'Friday', 'Saturday', 'Sunday']"
      ]
     },
     "execution_count": 13,
     "metadata": {},
     "output_type": "execute_result"
    }
   ],
   "source": [
    "list(calendar.day_name) "
   ]
  },
  {
   "cell_type": "code",
   "execution_count": 14,
   "id": "b7827d1f",
   "metadata": {},
   "outputs": [
    {
     "data": {
      "text/plain": [
       "['Mon', 'Tue', 'Wed', 'Thu', 'Fri', 'Sat', 'Sun']"
      ]
     },
     "execution_count": 14,
     "metadata": {},
     "output_type": "execute_result"
    }
   ],
   "source": [
    "list(calendar.day_abbr)"
   ]
  },
  {
   "cell_type": "code",
   "execution_count": 15,
   "id": "b3f5d58f",
   "metadata": {},
   "outputs": [
    {
     "name": "stdout",
     "output_type": "stream",
     "text": [
      "\n",
      "January\n",
      "February\n",
      "March\n",
      "April\n",
      "May\n",
      "June\n",
      "July\n",
      "August\n",
      "September\n",
      "October\n",
      "November\n",
      "December\n"
     ]
    }
   ],
   "source": [
    "for i in range(13):\n",
    "    print(calendar.month_name[i])"
   ]
  },
  {
   "cell_type": "code",
   "execution_count": 16,
   "id": "64ad3540",
   "metadata": {},
   "outputs": [
    {
     "data": {
      "text/plain": [
       "['',\n",
       " 'January',\n",
       " 'February',\n",
       " 'March',\n",
       " 'April',\n",
       " 'May',\n",
       " 'June',\n",
       " 'July',\n",
       " 'August',\n",
       " 'September',\n",
       " 'October',\n",
       " 'November',\n",
       " 'December']"
      ]
     },
     "execution_count": 16,
     "metadata": {},
     "output_type": "execute_result"
    }
   ],
   "source": [
    "list(calendar.month_name)"
   ]
  },
  {
   "cell_type": "code",
   "execution_count": 17,
   "id": "6d36bba2",
   "metadata": {},
   "outputs": [
    {
     "data": {
      "text/plain": [
       "['',\n",
       " 'Jan',\n",
       " 'Feb',\n",
       " 'Mar',\n",
       " 'Apr',\n",
       " 'May',\n",
       " 'Jun',\n",
       " 'Jul',\n",
       " 'Aug',\n",
       " 'Sep',\n",
       " 'Oct',\n",
       " 'Nov',\n",
       " 'Dec']"
      ]
     },
     "execution_count": 17,
     "metadata": {},
     "output_type": "execute_result"
    }
   ],
   "source": [
    "list(calendar.month_abbr)"
   ]
  },
  {
   "cell_type": "code",
   "execution_count": 18,
   "id": "b858fd1d",
   "metadata": {},
   "outputs": [
    {
     "name": "stdout",
     "output_type": "stream",
     "text": [
      "0\n",
      "1\n",
      "2\n",
      "3\n",
      "4\n",
      "5\n",
      "6\n"
     ]
    }
   ],
   "source": [
    "# calendar object and example methods\n",
    "cl = calendar.Calendar()\n",
    "\n",
    "#week days numbers\n",
    "for i in cl.iterweekdays():\n",
    "    print(i)\n"
   ]
  },
  {
   "cell_type": "code",
   "execution_count": 19,
   "id": "1967580a",
   "metadata": {},
   "outputs": [
    {
     "data": {
      "text/plain": [
       "[datetime.date(2022, 3, 28),\n",
       " datetime.date(2022, 3, 29),\n",
       " datetime.date(2022, 3, 30),\n",
       " datetime.date(2022, 3, 31),\n",
       " datetime.date(2022, 4, 1),\n",
       " datetime.date(2022, 4, 2),\n",
       " datetime.date(2022, 4, 3),\n",
       " datetime.date(2022, 4, 4),\n",
       " datetime.date(2022, 4, 5),\n",
       " datetime.date(2022, 4, 6),\n",
       " datetime.date(2022, 4, 7),\n",
       " datetime.date(2022, 4, 8),\n",
       " datetime.date(2022, 4, 9),\n",
       " datetime.date(2022, 4, 10),\n",
       " datetime.date(2022, 4, 11),\n",
       " datetime.date(2022, 4, 12),\n",
       " datetime.date(2022, 4, 13),\n",
       " datetime.date(2022, 4, 14),\n",
       " datetime.date(2022, 4, 15),\n",
       " datetime.date(2022, 4, 16),\n",
       " datetime.date(2022, 4, 17),\n",
       " datetime.date(2022, 4, 18),\n",
       " datetime.date(2022, 4, 19),\n",
       " datetime.date(2022, 4, 20),\n",
       " datetime.date(2022, 4, 21),\n",
       " datetime.date(2022, 4, 22),\n",
       " datetime.date(2022, 4, 23),\n",
       " datetime.date(2022, 4, 24),\n",
       " datetime.date(2022, 4, 25),\n",
       " datetime.date(2022, 4, 26),\n",
       " datetime.date(2022, 4, 27),\n",
       " datetime.date(2022, 4, 28),\n",
       " datetime.date(2022, 4, 29),\n",
       " datetime.date(2022, 4, 30),\n",
       " datetime.date(2022, 5, 1)]"
      ]
     },
     "execution_count": 19,
     "metadata": {},
     "output_type": "execute_result"
    }
   ],
   "source": [
    "# All dates for the month (datetime.date objects)\n",
    "\n",
    "list(cl.itermonthdates(2022,4))"
   ]
  },
  {
   "cell_type": "code",
   "execution_count": 20,
   "id": "d8176afb",
   "metadata": {},
   "outputs": [
    {
     "data": {
      "text/plain": [
       "[[0, 0, 0, 0, 1, 2, 3],\n",
       " [4, 5, 6, 7, 8, 9, 10],\n",
       " [11, 12, 13, 14, 15, 16, 17],\n",
       " [18, 19, 20, 21, 22, 23, 24],\n",
       " [25, 26, 27, 28, 29, 30, 0]]"
      ]
     },
     "execution_count": 20,
     "metadata": {},
     "output_type": "execute_result"
    }
   ],
   "source": [
    "# list of the weeks of the month of the year \n",
    "list (cl.monthdayscalendar(2022,4))"
   ]
  },
  {
   "cell_type": "code",
   "execution_count": 21,
   "id": "67561a14",
   "metadata": {},
   "outputs": [
    {
     "data": {
      "text/plain": [
       "[[[[0, 0, 0, 0, 0, 1, 2],\n",
       "   [3, 4, 5, 6, 7, 8, 9],\n",
       "   [10, 11, 12, 13, 14, 15, 16],\n",
       "   [17, 18, 19, 20, 21, 22, 23],\n",
       "   [24, 25, 26, 27, 28, 29, 30],\n",
       "   [31, 0, 0, 0, 0, 0, 0]],\n",
       "  [[0, 1, 2, 3, 4, 5, 6],\n",
       "   [7, 8, 9, 10, 11, 12, 13],\n",
       "   [14, 15, 16, 17, 18, 19, 20],\n",
       "   [21, 22, 23, 24, 25, 26, 27],\n",
       "   [28, 0, 0, 0, 0, 0, 0]],\n",
       "  [[0, 1, 2, 3, 4, 5, 6],\n",
       "   [7, 8, 9, 10, 11, 12, 13],\n",
       "   [14, 15, 16, 17, 18, 19, 20],\n",
       "   [21, 22, 23, 24, 25, 26, 27],\n",
       "   [28, 29, 30, 31, 0, 0, 0]]],\n",
       " [[[0, 0, 0, 0, 1, 2, 3],\n",
       "   [4, 5, 6, 7, 8, 9, 10],\n",
       "   [11, 12, 13, 14, 15, 16, 17],\n",
       "   [18, 19, 20, 21, 22, 23, 24],\n",
       "   [25, 26, 27, 28, 29, 30, 0]],\n",
       "  [[0, 0, 0, 0, 0, 0, 1],\n",
       "   [2, 3, 4, 5, 6, 7, 8],\n",
       "   [9, 10, 11, 12, 13, 14, 15],\n",
       "   [16, 17, 18, 19, 20, 21, 22],\n",
       "   [23, 24, 25, 26, 27, 28, 29],\n",
       "   [30, 31, 0, 0, 0, 0, 0]],\n",
       "  [[0, 0, 1, 2, 3, 4, 5],\n",
       "   [6, 7, 8, 9, 10, 11, 12],\n",
       "   [13, 14, 15, 16, 17, 18, 19],\n",
       "   [20, 21, 22, 23, 24, 25, 26],\n",
       "   [27, 28, 29, 30, 0, 0, 0]]],\n",
       " [[[0, 0, 0, 0, 1, 2, 3],\n",
       "   [4, 5, 6, 7, 8, 9, 10],\n",
       "   [11, 12, 13, 14, 15, 16, 17],\n",
       "   [18, 19, 20, 21, 22, 23, 24],\n",
       "   [25, 26, 27, 28, 29, 30, 31]],\n",
       "  [[1, 2, 3, 4, 5, 6, 7],\n",
       "   [8, 9, 10, 11, 12, 13, 14],\n",
       "   [15, 16, 17, 18, 19, 20, 21],\n",
       "   [22, 23, 24, 25, 26, 27, 28],\n",
       "   [29, 30, 31, 0, 0, 0, 0]],\n",
       "  [[0, 0, 0, 1, 2, 3, 4],\n",
       "   [5, 6, 7, 8, 9, 10, 11],\n",
       "   [12, 13, 14, 15, 16, 17, 18],\n",
       "   [19, 20, 21, 22, 23, 24, 25],\n",
       "   [26, 27, 28, 29, 30, 0, 0]]],\n",
       " [[[0, 0, 0, 0, 0, 1, 2],\n",
       "   [3, 4, 5, 6, 7, 8, 9],\n",
       "   [10, 11, 12, 13, 14, 15, 16],\n",
       "   [17, 18, 19, 20, 21, 22, 23],\n",
       "   [24, 25, 26, 27, 28, 29, 30],\n",
       "   [31, 0, 0, 0, 0, 0, 0]],\n",
       "  [[0, 1, 2, 3, 4, 5, 6],\n",
       "   [7, 8, 9, 10, 11, 12, 13],\n",
       "   [14, 15, 16, 17, 18, 19, 20],\n",
       "   [21, 22, 23, 24, 25, 26, 27],\n",
       "   [28, 29, 30, 0, 0, 0, 0]],\n",
       "  [[0, 0, 0, 1, 2, 3, 4],\n",
       "   [5, 6, 7, 8, 9, 10, 11],\n",
       "   [12, 13, 14, 15, 16, 17, 18],\n",
       "   [19, 20, 21, 22, 23, 24, 25],\n",
       "   [26, 27, 28, 29, 30, 31, 0]]]]"
      ]
     },
     "execution_count": 21,
     "metadata": {},
     "output_type": "execute_result"
    }
   ],
   "source": [
    "#list of the weeks of the year\n",
    "list(cl.yeardayscalendar(2022))"
   ]
  },
  {
   "cell_type": "code",
   "execution_count": null,
   "id": "6661511f",
   "metadata": {},
   "outputs": [],
   "source": []
  }
 ],
 "metadata": {
  "kernelspec": {
   "display_name": "Python 3 (ipykernel)",
   "language": "python",
   "name": "python3"
  },
  "language_info": {
   "codemirror_mode": {
    "name": "ipython",
    "version": 3
   },
   "file_extension": ".py",
   "mimetype": "text/x-python",
   "name": "python",
   "nbconvert_exporter": "python",
   "pygments_lexer": "ipython3",
   "version": "3.9.7"
  }
 },
 "nbformat": 4,
 "nbformat_minor": 5
}
